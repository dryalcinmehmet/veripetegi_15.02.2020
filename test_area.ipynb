{
 "cells": [
  {
   "cell_type": "code",
   "execution_count": 6,
   "metadata": {},
   "outputs": [],
   "source": [
    "from passlib.hash import pbkdf2_sha256\n",
    " hash = pbkdf2_sha256.hash(\"gurban99\")"
   ]
  },
  {
   "cell_type": "code",
   "execution_count": 7,
   "metadata": {},
   "outputs": [],
   "source": [
    " hash = pbkdf2_sha256.hash(\"gurban99\")"
   ]
  },
  {
   "cell_type": "code",
   "execution_count": 8,
   "metadata": {},
   "outputs": [
    {
     "data": {
      "text/plain": [
       "'$pbkdf2-sha256$29000$LMW4NybkvHfOufe.V8pZSw$D2JC8tvk6Td6qPf67Vsbs/UsMnwwI8gd9fcvSRIomhc'"
      ]
     },
     "execution_count": 8,
     "metadata": {},
     "output_type": "execute_result"
    }
   ],
   "source": [
    "hash\n"
   ]
  },
  {
   "cell_type": "code",
   "execution_count": 9,
   "metadata": {},
   "outputs": [],
   "source": [
    " hash = pbkdf2_sha256.hash(\"gurban99\")"
   ]
  },
  {
   "cell_type": "code",
   "execution_count": 10,
   "metadata": {},
   "outputs": [
    {
     "data": {
      "text/plain": [
       "'$pbkdf2-sha256$29000$8l7LWYsxhpBSijGmtLb2Xg$oMpfmwAE93Sw4LZVT9NFwCFV0iswxR8D4eP3HhunvOg'"
      ]
     },
     "execution_count": 10,
     "metadata": {},
     "output_type": "execute_result"
    }
   ],
   "source": [
    "hash"
   ]
  },
  {
   "cell_type": "code",
   "execution_count": 11,
   "metadata": {},
   "outputs": [],
   "source": [
    "from __future__ import unicode_literals\n",
    "from django.views.generic import TemplateView\n",
    "from django.shortcuts import render, render_to_response, redirect, get_object_or_404\n",
    "from django.shortcuts import render\n",
    "from django.utils import timezone\n",
    "from django.contrib.auth.forms import UserCreationForm\n",
    "from django.urls import reverse_lazy\n",
    "from django.views import generic\n",
    "from django.contrib.auth import authenticate, login as auth_login\n",
    "from django.contrib.auth.decorators import user_passes_test\n",
    "from django.contrib import messages\n",
    "from django.http import HttpResponseRedirect, Http404\n",
    "from django.views.generic import ListView\n",
    "from django.utils.decorators import method_decorator\n",
    "from django.utils.translation import ugettext_lazy as _\n",
    "from django.shortcuts import render\n",
    "from django.contrib.auth import authenticate, login, logout\n",
    "from django.http import HttpResponseRedirect, HttpResponse\n",
    "from django.urls import reverse\n",
    "from django.contrib.auth.decorators import login_required\n",
    "from django.contrib.auth import login, authenticate\n",
    "from django.contrib.auth.forms import UserCreationForm\n",
    "from django.shortcuts import render, redirect\n",
    "from django.views.generic import TemplateView\n",
    "from blog.models import Post, Document, AuthorApply, QA, QAnswer, CustomProfile\n",
    "import datetime\n",
    "from django.views.generic import TemplateView\n",
    "from django.shortcuts import render, render_to_response, redirect, get_object_or_404\n",
    "from django.shortcuts import render\n",
    "from django.utils import timezone\n",
    "from django.contrib.auth.forms import UserCreationForm\n",
    "from django.urls import reverse_lazy\n",
    "from django.views import generic\n",
    "from django.http import HttpResponseRedirect, HttpResponse\n",
    "from django.urls import reverse\n",
    "from django.contrib.auth.decorators import login_required\n",
    "from django.contrib.auth import login, authenticate\n",
    "from django.contrib.auth.forms import UserCreationForm\n",
    "from django.shortcuts import render, redirect\n",
    "from source.forms import SignUpForm\n",
    "from django.contrib.auth import get_user_model\n",
    "from django.contrib.auth.models import User\n",
    "import pandas as pd\n",
    "from django.template import RequestContext\n",
    "from django.db.models import Q\n",
    "from django.core.paginator import Paginator\n",
    "from django.shortcuts import render\n",
    "from django.core.paginator import Paginator, EmptyPage, PageNotAnInteger\n",
    "import re\n",
    "import unidecode\n",
    "from django.http import HttpResponseRedirect\n",
    "import operator\n",
    "from django.db.models import Q\n",
    "from functools import reduce\n",
    "from django.contrib.auth.forms import PasswordChangeForm\n",
    "from django.shortcuts import render, redirect\n",
    "from django.contrib import messages\n",
    "from django.contrib.auth import update_session_auth_hash\n",
    "import datetime\n",
    "import unidecode,re\n",
    "import random\n",
    "from django.utils import timezone\n",
    "import glob\n",
    "from passlib.hash import pbkdf2_sha256"
   ]
  },
  {
   "cell_type": "code",
   "execution_count": 14,
   "metadata": {},
   "outputs": [
    {
     "ename": "MultipleObjectsReturned",
     "evalue": "get() returned more than one QA -- it returned 3!",
     "output_type": "error",
     "traceback": [
      "\u001b[0;31m---------------------------------------------------------------------------\u001b[0m",
      "\u001b[0;31mMultipleObjectsReturned\u001b[0m                   Traceback (most recent call last)",
      "\u001b[0;32m<ipython-input-14-8576ab9efd67>\u001b[0m in \u001b[0;36m<module>\u001b[0;34m\u001b[0m\n\u001b[1;32m      1\u001b[0m \u001b[0muser\u001b[0m \u001b[0;34m=\u001b[0m \u001b[0mUser\u001b[0m\u001b[0;34m.\u001b[0m\u001b[0mobjects\u001b[0m\u001b[0;34m.\u001b[0m\u001b[0mget\u001b[0m\u001b[0;34m(\u001b[0m\u001b[0musername\u001b[0m\u001b[0;34m=\u001b[0m\u001b[0;34m\"admin\"\u001b[0m\u001b[0;34m)\u001b[0m\u001b[0;34m\u001b[0m\u001b[0;34m\u001b[0m\u001b[0m\n\u001b[0;32m----> 2\u001b[0;31m \u001b[0mqa\u001b[0m\u001b[0;34m=\u001b[0m \u001b[0mQA\u001b[0m\u001b[0;34m.\u001b[0m\u001b[0mobjects\u001b[0m\u001b[0;34m.\u001b[0m\u001b[0mget\u001b[0m\u001b[0;34m(\u001b[0m\u001b[0mauthor\u001b[0m\u001b[0;34m=\u001b[0m\u001b[0muser\u001b[0m\u001b[0;34m)\u001b[0m\u001b[0;34m\u001b[0m\u001b[0;34m\u001b[0m\u001b[0m\n\u001b[0m",
      "\u001b[0;32m~/PycharmProjects/dataset/env/lib/python3.7/site-packages/django/db/models/manager.py\u001b[0m in \u001b[0;36mmanager_method\u001b[0;34m(self, *args, **kwargs)\u001b[0m\n\u001b[1;32m     80\u001b[0m         \u001b[0;32mdef\u001b[0m \u001b[0mcreate_method\u001b[0m\u001b[0;34m(\u001b[0m\u001b[0mname\u001b[0m\u001b[0;34m,\u001b[0m \u001b[0mmethod\u001b[0m\u001b[0;34m)\u001b[0m\u001b[0;34m:\u001b[0m\u001b[0;34m\u001b[0m\u001b[0;34m\u001b[0m\u001b[0m\n\u001b[1;32m     81\u001b[0m             \u001b[0;32mdef\u001b[0m \u001b[0mmanager_method\u001b[0m\u001b[0;34m(\u001b[0m\u001b[0mself\u001b[0m\u001b[0;34m,\u001b[0m \u001b[0;34m*\u001b[0m\u001b[0margs\u001b[0m\u001b[0;34m,\u001b[0m \u001b[0;34m**\u001b[0m\u001b[0mkwargs\u001b[0m\u001b[0;34m)\u001b[0m\u001b[0;34m:\u001b[0m\u001b[0;34m\u001b[0m\u001b[0;34m\u001b[0m\u001b[0m\n\u001b[0;32m---> 82\u001b[0;31m                 \u001b[0;32mreturn\u001b[0m \u001b[0mgetattr\u001b[0m\u001b[0;34m(\u001b[0m\u001b[0mself\u001b[0m\u001b[0;34m.\u001b[0m\u001b[0mget_queryset\u001b[0m\u001b[0;34m(\u001b[0m\u001b[0;34m)\u001b[0m\u001b[0;34m,\u001b[0m \u001b[0mname\u001b[0m\u001b[0;34m)\u001b[0m\u001b[0;34m(\u001b[0m\u001b[0;34m*\u001b[0m\u001b[0margs\u001b[0m\u001b[0;34m,\u001b[0m \u001b[0;34m**\u001b[0m\u001b[0mkwargs\u001b[0m\u001b[0;34m)\u001b[0m\u001b[0;34m\u001b[0m\u001b[0;34m\u001b[0m\u001b[0m\n\u001b[0m\u001b[1;32m     83\u001b[0m             \u001b[0mmanager_method\u001b[0m\u001b[0;34m.\u001b[0m\u001b[0m__name__\u001b[0m \u001b[0;34m=\u001b[0m \u001b[0mmethod\u001b[0m\u001b[0;34m.\u001b[0m\u001b[0m__name__\u001b[0m\u001b[0;34m\u001b[0m\u001b[0;34m\u001b[0m\u001b[0m\n\u001b[1;32m     84\u001b[0m             \u001b[0mmanager_method\u001b[0m\u001b[0;34m.\u001b[0m\u001b[0m__doc__\u001b[0m \u001b[0;34m=\u001b[0m \u001b[0mmethod\u001b[0m\u001b[0;34m.\u001b[0m\u001b[0m__doc__\u001b[0m\u001b[0;34m\u001b[0m\u001b[0;34m\u001b[0m\u001b[0m\n",
      "\u001b[0;32m~/PycharmProjects/dataset/env/lib/python3.7/site-packages/django/db/models/query.py\u001b[0m in \u001b[0;36mget\u001b[0;34m(self, *args, **kwargs)\u001b[0m\n\u001b[1;32m    410\u001b[0m         raise self.model.MultipleObjectsReturned(\n\u001b[1;32m    411\u001b[0m             \u001b[0;34m\"get() returned more than one %s -- it returned %s!\"\u001b[0m \u001b[0;34m%\u001b[0m\u001b[0;34m\u001b[0m\u001b[0;34m\u001b[0m\u001b[0m\n\u001b[0;32m--> 412\u001b[0;31m             \u001b[0;34m(\u001b[0m\u001b[0mself\u001b[0m\u001b[0;34m.\u001b[0m\u001b[0mmodel\u001b[0m\u001b[0;34m.\u001b[0m\u001b[0m_meta\u001b[0m\u001b[0;34m.\u001b[0m\u001b[0mobject_name\u001b[0m\u001b[0;34m,\u001b[0m \u001b[0mnum\u001b[0m\u001b[0;34m)\u001b[0m\u001b[0;34m\u001b[0m\u001b[0;34m\u001b[0m\u001b[0m\n\u001b[0m\u001b[1;32m    413\u001b[0m         )\n\u001b[1;32m    414\u001b[0m \u001b[0;34m\u001b[0m\u001b[0m\n",
      "\u001b[0;31mMultipleObjectsReturned\u001b[0m: get() returned more than one QA -- it returned 3!"
     ]
    }
   ],
   "source": [
    "user = User.objects.get(username=\"admin\")\n",
    "qa= QA.objects.get(author=user, title=\"test\", id=4)"
   ]
  },
  {
   "cell_type": "code",
   "execution_count": null,
   "metadata": {},
   "outputs": [],
   "source": []
  }
 ],
 "metadata": {
  "kernelspec": {
   "display_name": "Django Shell-Plus",
   "language": "python",
   "name": "django_extensions"
  },
  "language_info": {
   "codemirror_mode": {
    "name": "ipython",
    "version": 3
   },
   "file_extension": ".py",
   "mimetype": "text/x-python",
   "name": "python",
   "nbconvert_exporter": "python",
   "pygments_lexer": "ipython3",
   "version": "3.7.1"
  }
 },
 "nbformat": 4,
 "nbformat_minor": 2
}
